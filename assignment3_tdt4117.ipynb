{
 "cells": [
  {
   "cell_type": "markdown",
   "id": "39093417",
   "metadata": {},
   "source": [
    "# Assignment 3: Local Association Matrix \n",
    "\n",
    "**Student names**: _Your_names_here_ <br>\n",
    "**Group number**: _Your_group_here_ <br>\n",
    "**Date**: _Submission Date_\n",
    "\n",
    "## Important notes\n",
    "Please read and follow these rules. Submissions that do not fulfill them may be returned.\n",
    "1. You may work in groups of maximum 2 students.\n",
    "2. Submit in **.ipynb** format only.\n",
    "3. The assignment must be typed. Handwritten answers are not accepted.\n",
    "\n",
    "**Due date**: 12.10.2025 23:59\n",
    "\n",
    "### What you will do \n",
    "- Build a **local association matrix** from Cranfield collection.\n",
    "- Compute the **normalized association matrix**.\n",
    "- Use the normalized matrix to **identify neighborhood terms** for expansion for given queries.\n"
   ]
  },
  {
   "cell_type": "markdown",
   "id": "d8c5497f",
   "metadata": {},
   "source": [
    "---\n",
    "## Dataset\n",
    "\n",
    "You will use the **Cranfield** dataset, provided in this file:\n",
    "\n",
    "- `cran.all.1400`: The document collection (1400 documents)\n",
    "\n",
    "**The code to parse the file is ready — just update the cran file path to match your own file location. Use the docs variable in your code for the parsed file**\n"
   ]
  },
  {
   "cell_type": "markdown",
   "id": "ddfd0b1f",
   "metadata": {},
   "source": [
    "### Load and parse documents (provided)\n",
    "\n",
    "Run the cell to parse the Cranfield documents. Update the path so it points to your `cran.all.1400` file."
   ]
  },
  {
   "cell_type": "code",
   "execution_count": null,
   "id": "10841b0e",
   "metadata": {},
   "outputs": [],
   "source": [
    "# Read 'cran.all.1400' and parse the documents into a suitable data structure\n",
    "\n",
    "CRAN_PATH = r\"your_path_to/cran.all.1400\"  # <-- change this!\n",
    "\n",
    "def parse_cranfield(path):\n",
    "    docs = {}\n",
    "    current_id = None\n",
    "    current_field = None\n",
    "    buffers = {\"T\": [], \"A\": [], \"B\": [], \"W\": []}\n",
    "    with open(path, \"r\", encoding=\"utf-8\", errors=\"ignore\") as f:\n",
    "        for line in f:\n",
    "            line = line.rstrip(\"\\n\")\n",
    "            if line.startswith(\".I \"):\n",
    "                if current_id is not None:\n",
    "                    docs[current_id] = {\n",
    "                        \"id\": current_id,\n",
    "                        \"title\": \" \".join(buffers[\"T\"]).strip(),\n",
    "                        \"abstract\": \" \".join(buffers[\"W\"]).strip()\n",
    "                    }\n",
    "                current_id = int(line.split()[1])\n",
    "                buffers = {k: [] for k in buffers}\n",
    "                current_field = None\n",
    "            elif line.startswith(\".\"):\n",
    "                tag = line[1:].strip()\n",
    "                current_field = tag if tag in buffers else None\n",
    "            else:\n",
    "                if current_field is not None:\n",
    "                    buffers[current_field].append(line)\n",
    "    if current_id is not None:\n",
    "        docs[current_id] = {\n",
    "            \"id\": current_id,\n",
    "            \"title\": \" \".join(buffers[\"T\"]).strip(),\n",
    "            \"abstract\": \" \".join(buffers[\"W\"]).strip()\n",
    "        }\n",
    "    print(f\"Parsed {len(docs)} documents.\")\n",
    "    return docs\n",
    "\n",
    "docs = parse_cranfield(CRAN_PATH)"
   ]
  },
  {
   "cell_type": "markdown",
   "id": "bbe7263b",
   "metadata": {},
   "source": [
    "## 3.1  Local association matrix\n",
    "\n",
    "For the given Cranfield document collection in cran.all.1400 construct a local association matrix to identify association clusters. Use the docs variable with the parsed file. Omit stopwords in the STOPWORDS list given below from the vocabulary. \n",
    "\n",
    "\n",
    "The correlation factors $c_{u,v}$ between any pair of terms $w_u$ and $w_v$ are defined as  \n",
    "$c_{u,v} = \\sum_{d_j \\in D} f_{u,j} \\cdot f_{v,j}$  \n",
    "\n",
    "$f_{u,j}$ is the raw term frequency of $w_u$ in document $d_j$.\n",
    "\n",
    "### Weighting variants: **scalar** and **metric**\n",
    "\n",
    "Add two alternative weighting schemes for the matrix (only the formula for assigning the matrix cell value changes):\n",
    "\n",
    "- **Metric weighting** :\n",
    "Let $w_u(n,j)$ and $w_v(m,j)$ denote the $n$-th and $m$-th occurrences of terms $w_u$ and $w_v$ in document $d_j$.  \n",
    "Define a distance function $r(w_u(n,j), w_v(m,j))$ (e.g., $r(i,k) = 1 + |i - k|$).  \n",
    "Then:\n",
    "\n",
    "$$\n",
    "c_{u,v} = \\sum_{d_j \\in D} \\sum_n \\sum_m \\frac{1}{r(w_u(n,j), w_v(m,j))}\n",
    "$$\n",
    "\n",
    "\n",
    "- **Scalar weighting** :\n",
    "Let $\\vec{s}_u = \\langle c_{u,x_1}, c_{u,x_2}, \\dots, c_{u,x_n} \\rangle$ be the neighborhood vector of term $w_u$, and similarly for $w_v$.  \n",
    "Then:\n",
    "\n",
    "$$\n",
    "c_{u,v} = \\frac{\\vec{s}_u \\cdot \\vec{s}_v}{|\\vec{s}_u| \\cdot |\\vec{s}_v|}\n",
    "$$"
   ]
  },
  {
   "cell_type": "code",
   "execution_count": null,
   "id": "9433bbe3",
   "metadata": {},
   "outputs": [],
   "source": [
    "# TODO: Construct a local association matrix for the cranfield collection. Use both weighting variants.\n",
    "\n",
    "STOPWORDS = set(\"\"\"a about above after again against all am an and any are aren't as at be because been\n",
    "before being below between both but by can't cannot could couldn't did didn't do does doesn't doing don't down\n",
    "during each few for from further had hadn't has hasn't have haven't having he he'd he'll he's her here here's hers\n",
    "herself him himself his how how's i i'd i'll i'm i've if in into is isn't it it's its itself let's me more most\n",
    "mustn't my myself no nor not of off on once only or other ought our ours ourselves out over own same shan't she\n",
    "she'd she'll she's should shouldn't so some such than that that's the their theirs them themselves then there there's\n",
    "these they they'd they'll they're they've this those through to too under until up very was wasn't we we'd we'll we're\n",
    "we've were weren't what what's when when's where where's which while who who's whom why why's with won't would wouldn't\n",
    "you you'd you'll you're you've your yours yourself yourselves\"\"\".split())\n",
    "\n",
    "# Your code here\n"
   ]
  },
  {
   "cell_type": "markdown",
   "id": "ab55f9bc",
   "metadata": {},
   "source": [
    "## 3.2 Normalized association matrix\n",
    "\n",
    "Compute the normalized association matrix from the unnormalized matrix computed above. \n",
    "\n",
    "To normalize the matrix use the following formula: <br>\n",
    "$c'_{u,v} = \\frac{c_{u,v}}{c_{u,u} + c_{v,v} - c_{u,v}}$  \n"
   ]
  },
  {
   "cell_type": "code",
   "execution_count": null,
   "id": "ff1f5964",
   "metadata": {},
   "outputs": [],
   "source": [
    "#TODO: Compute the normalized association matrix \n",
    "\n",
    "# Your code here"
   ]
  },
  {
   "cell_type": "markdown",
   "id": "a7f6e8c0",
   "metadata": {},
   "source": [
    "## 3.3 Neighborhood terms\n",
    "\n",
    "With the help of the normalized local association matrix, identify the neighborhood terms that should be used for expansion for the following queries (queries_assignment3):\n"
   ]
  },
  {
   "cell_type": "code",
   "execution_count": null,
   "id": "0e52e78f",
   "metadata": {},
   "outputs": [],
   "source": [
    "# Do not change this code\n",
    "queries_assignment3 = [\n",
    "  \"gas pressure\",\n",
    "  \"structural aeroelastic flight high speed aircraft\",\n",
    "  \"heat conduction composite slabs\",\n",
    "  \"boundary layer control\",\n",
    "  \"compressible flow nozzle\",\n",
    "  \"combustion chamber injection\",\n",
    "  \"laminar turbulent transition\",\n",
    "  \"fatigue crack growth\",\n",
    "  \"wing tip vortices\",\n",
    "  \"propulsion efficiency\"\n",
    "]"
   ]
  },
  {
   "cell_type": "code",
   "execution_count": null,
   "id": "77a58c5f",
   "metadata": {},
   "outputs": [],
   "source": [
    "#TODO: Identify neighborhood terms for queries_assignment3\n",
    "\n",
    "# Your code here\n"
   ]
  }
 ],
 "metadata": {
  "kernelspec": {
   "display_name": "Python 3",
   "language": "python",
   "name": "python3"
  },
  "language_info": {
   "name": "python",
   "version": "3.x"
  }
 },
 "nbformat": 4,
 "nbformat_minor": 5
}
